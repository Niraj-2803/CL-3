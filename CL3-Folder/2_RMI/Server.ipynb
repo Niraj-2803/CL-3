{
 "cells": [
  {
   "cell_type": "code",
   "execution_count": 1,
   "id": "0c2268f7",
   "metadata": {},
   "outputs": [],
   "source": [
    "import Pyro4\n",
    "@Pyro4.expose\n",
    "class StringConcatenationServer:\n",
    "    def concatenate_strings(self, str1, str2):\n",
    "        result = str1 + str2\n",
    "        return result"
   ]
  },
  {
   "cell_type": "code",
   "execution_count": 2,
   "id": "017ad62b",
   "metadata": {},
   "outputs": [],
   "source": [
    "def main():\n",
    "    daemon = Pyro4.Daemon()  # Create a Pyro daemon\n",
    "    ns = Pyro4.locateNS()  # Locate the Pyro nameserver\n",
    "\n",
    "\n",
    "    # Create an instance of the server class\n",
    "    server = StringConcatenationServer()\n",
    "\n",
    "\n",
    "    # Register the server object with the Pyro nameserver\n",
    "    uri = daemon.register(server)\n",
    "    ns.register(\"string.concatenation\", uri)\n",
    "\n",
    "\n",
    "    print(\"Server URI:\", uri)\n",
    "\n",
    "\n",
    "    with open(\"server_uri.txt\", \"w\") as f:\n",
    "        f.write(str(uri))\n",
    "\n",
    "\n",
    "    daemon.requestLoop()"
   ]
  },
  {
   "cell_type": "code",
   "execution_count": null,
   "id": "73296d1f",
   "metadata": {},
   "outputs": [
    {
     "name": "stdout",
     "output_type": "stream",
     "text": [
      "Server URI: PYRO:obj_908f25202cef4f6c95ec20c7af47875c@localhost:63202\n"
     ]
    }
   ],
   "source": [
    "if __name__ == \"__main__\":\n",
    "    main()"
   ]
  },
  {
   "cell_type": "code",
   "execution_count": null,
   "id": "ac8a43b1",
   "metadata": {},
   "outputs": [],
   "source": []
  }
 ],
 "metadata": {
  "kernelspec": {
   "display_name": "Python 3 (ipykernel)",
   "language": "python",
   "name": "python3"
  },
  "language_info": {
   "codemirror_mode": {
    "name": "ipython",
    "version": 3
   },
   "file_extension": ".py",
   "mimetype": "text/x-python",
   "name": "python",
   "nbconvert_exporter": "python",
   "pygments_lexer": "ipython3",
   "version": "3.9.12"
  }
 },
 "nbformat": 4,
 "nbformat_minor": 5
}
